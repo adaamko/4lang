{
 "cells": [
  {
   "cell_type": "code",
   "execution_count": 216,
   "metadata": {},
   "outputs": [],
   "source": [
    "import json\n",
    "import requests\n",
    "import json\n",
    "import matplotlib\n",
    "import re\n",
    "import pydot\n",
    "from graphviz import Digraph\n",
    "from graphviz import Source\n",
    "from inference_utils import Utils\n",
    "import networkx as nx\n",
    "from networkx.readwrite import json_graph\n",
    "from __future__ import print_function"
   ]
  },
  {
   "cell_type": "code",
   "execution_count": 372,
   "metadata": {},
   "outputs": [],
   "source": [
    "from enum import Enum\n",
    "\n",
    "class EdgeStatus(Enum):\n",
    "    wiktdata_error = 1\n",
    "    double_edge_error = 2\n",
    "    single_zero_success = 3\n",
    "    no_edge_success = 4\n",
    "    neutral = 5\n",
    "    edge_not_found = 6\n",
    "    node_not_found = 7\n",
    "    zero_noedge_both_success = 8 \n",
    "\n",
    "def append_wikidata(graph, triplet, rule, lemma):\n",
    "    curr_edges = [\n",
    "        (n1, n2, d['color']) for n1, n2, d in graph.edges(data=True)]\n",
    "\n",
    "    if triplet['arg1'] is \"novalue\" or triplet['arg2'] is \"novalue\" or triplet['arg3'] is \"novalue\":\n",
    "        return EdgeStatus.wiktdata_error\n",
    "    \n",
    "    a = nx.get_node_attributes(graph,'str_name')\n",
    "    \n",
    "    for n in a:\n",
    "        if a[n] == lemma:\n",
    "            nulledgecount = 0\n",
    "            edgetoit = False\n",
    "            for e in curr_edges:\n",
    "                #megy e bele el\n",
    "                if e[1] == n:\n",
    "                    edgetoit = True\n",
    "                    \n",
    "                if e[0] == n:\n",
    "                    #ketts el vizsgalata\n",
    "                    for c in curr_edges:\n",
    "                        if c[0] == e[1] and c[1] == n:\n",
    "                            return EdgeStatus.double_edge_error\n",
    "                        \n",
    "                if rule == 0:\n",
    "                    if e[2] == 0 and e[0] == n:\n",
    "                        nulledgecount+=1\n",
    "                        if triplet['arg3'] not in a:\n",
    "                            graph.add_node(triplet['arg3']+'_', str_name=triplet['arg3'], expanded=True)\n",
    "                            graph.add_edge(triplet['arg3']+'_', e[1], color=0)\n",
    "                            \n",
    "                if rule == 2:\n",
    "                    if e[2] == 2 and e[0] == n:\n",
    "                        nulledgecount+=1\n",
    "                        if triplet['arg1'] not in a:\n",
    "                            graph.add_node(triplet['arg1']+'_', str_name=triplet['arg1'], expanded=True)\n",
    "                            graph.add_edge(triplet['arg1']+'_', e[1], color=0)\n",
    "\n",
    "            if nulledgecount == 0:\n",
    "                return EdgeStatus.edge_not_found\n",
    "            if nulledgecount == 1 and edgetoit == True:\n",
    "                return EdgeStatus.single_zero_success\n",
    "            if edgetoit == False and nulledgecount != 1:\n",
    "                return EdgeStatus.no_edge_success\n",
    "            if nulledgecount == 1 and edgetoit == False:\n",
    "                return EdgeStatus.zero_noedge_both_success\n",
    "            \n",
    "            return EdgeStatus.neutral\n",
    "\n",
    "    return EdgeStatus.node_not_found"
   ]
  },
  {
   "cell_type": "code",
   "execution_count": null,
   "metadata": {},
   "outputs": [],
   "source": [
    "'''TESZT!!!'''\n",
    "'''\n",
    "triplets = {}\n",
    "graphs = {}\n",
    "statuses = {}\n",
    "count = 0\n",
    "with open(\"togetherfiltered.json\", \"r+\") as f:\n",
    "    for l in f:\n",
    "        line = eval(l)\n",
    "        predicate = line['arg2']\n",
    "        data = {'word':   predicate}\n",
    "        data_json = json.dumps(data)\n",
    "        payload = {'json_payload': data_json}\n",
    "        headers = {'Content-type': 'application/json', 'Accept': 'text/plain'}\n",
    "\n",
    "        r = requests.post(\"http://127.0.0.1:5000/wikidata\", data=data_json, headers=headers)\n",
    "        \n",
    "        word_graph = r.json()['word']\n",
    "        g_word_graph = json_graph.adjacency.adjacency_graph(word_graph)\n",
    "        \n",
    "        status = append_wikidata(g_word_graph, line, 2)\n",
    "        \n",
    "        triplets[count] = (line['arg1'], line['arg2'], line['arg3'])\n",
    "        graphs[count] = g_word_graph\n",
    "        statuses[count] = status\n",
    "        count+=1\n",
    "'''"
   ]
  },
  {
   "cell_type": "code",
   "execution_count": 13,
   "metadata": {},
   "outputs": [],
   "source": [
    "dict_predicates = {}\n",
    "with open('/home/adaamko/wikidata/wikidata_all_with_labels_filtered', 'r') as f:\n",
    "    count = 0\n",
    "    for line in f:\n",
    "        d = eval(line)\n",
    "        if d['arg2'] not in dict_predicates:\n",
    "            dict_predicates[d['arg2']] = 0\n",
    "        else:\n",
    "            dict_predicates[d['arg2']] += 1"
   ]
  },
  {
   "cell_type": "code",
   "execution_count": 181,
   "metadata": {},
   "outputs": [
    {
     "data": {
      "text/plain": [
       "195"
      ]
     },
     "execution_count": 181,
     "metadata": {},
     "output_type": "execute_result"
    }
   ],
   "source": [
    "len(dict_predicates)"
   ]
  },
  {
   "cell_type": "code",
   "execution_count": 182,
   "metadata": {},
   "outputs": [],
   "source": [
    "import statistics"
   ]
  },
  {
   "cell_type": "code",
   "execution_count": 189,
   "metadata": {},
   "outputs": [
    {
     "name": "stdout",
     "output_type": "stream",
     "text": [
      "Amire alkalmazhato a 4lang\n",
      "100772.292308\n",
      "566557.073168\n",
      "19650597\n"
     ]
    }
   ],
   "source": [
    "print(\"Amire alkalmazhato a 4lang\")\n",
    "print(statistics.mean(dict_predicates.values()))\n",
    "print(statistics.pstdev(dict_predicates.values()))\n",
    "print(sum(dict_predicates.values()))"
   ]
  },
  {
   "cell_type": "code",
   "execution_count": 40,
   "metadata": {},
   "outputs": [],
   "source": [
    "dict_predicates_filter_novalue = {}\n",
    "with open('/home/adaamko/wikidata/wikidata_all_with_labels_filtered', 'r') as f:\n",
    "    count = 0\n",
    "    for line in f:\n",
    "        d = eval(line)\n",
    "        if d['arg1'] is \"novalue\" or d['arg2'] is \"novalue\" or d['arg3'] is \"novalue\":\n",
    "            continue\n",
    "        if d['arg2'] not in dict_predicates_filter_novalue:\n",
    "            dict_predicates_filter_novalue[d['arg2']] = 0\n",
    "        else:\n",
    "            dict_predicates_filter_novalue[d['arg2']] += 1"
   ]
  },
  {
   "cell_type": "code",
   "execution_count": 190,
   "metadata": {},
   "outputs": [
    {
     "name": "stdout",
     "output_type": "stream",
     "text": [
      "Novalue-ek kiszurese utan\n",
      "72991.7641026\n",
      "374664.761134\n",
      "14233394\n"
     ]
    }
   ],
   "source": [
    "print(\"Novalue-ek kiszurese utan\")\n",
    "print(statistics.mean(dict_predicates_filter_novalue.values()))\n",
    "print(statistics.pstdev(dict_predicates_filter_novalue.values()))\n",
    "print(sum(dict_predicates_filter_novalue.values()))"
   ]
  },
  {
   "cell_type": "code",
   "execution_count": 44,
   "metadata": {},
   "outputs": [],
   "source": [
    "dict_sentences = {}\n",
    "with open('/home/adaamko/wikidata/wikidata_all_with_labels_filtered', 'r') as f:\n",
    "    count = 0\n",
    "    for line in f:\n",
    "        d = eval(line)\n",
    "        if d['arg1'] is \"novalue\" or d['arg2'] is \"novalue\" or d['arg3'] is \"novalue\":\n",
    "            continue\n",
    "        if d['arg2'] not in dict_sentences:\n",
    "            dict_sentences[d['arg2']] = d"
   ]
  },
  {
   "cell_type": "code",
   "execution_count": 373,
   "metadata": {},
   "outputs": [],
   "source": [
    "triplets = {}\n",
    "statuses_zero = {}\n",
    "graphs = {}\n",
    "graphs_zero = {}\n",
    "graphs_two = {} \n",
    "statuses_two = {}\n",
    "count = 0\n",
    "\n",
    "for line in dict_sentences.values():\n",
    "    predicate = line['arg2']\n",
    "    data = {'word':   predicate}\n",
    "    data_json = json.dumps(data)\n",
    "    payload = {'json_payload': data_json}\n",
    "    headers = {'Content-type': 'application/json', 'Accept': 'text/plain'}\n",
    "\n",
    "    r = requests.post(\"http://127.0.0.1:5000/wikidata\", data=data_json, headers=headers)\n",
    "\n",
    "    word_graph = r.json()['word']\n",
    "    lemma = r.json()['lem']\n",
    "    g_word_graph_zero = json_graph.adjacency.adjacency_graph(word_graph)\n",
    "    g_word_graph_two = json_graph.adjacency.adjacency_graph(word_graph)\n",
    "\n",
    "    status_zero = append_wikidata(g_word_graph_zero, line, 0, lemma)\n",
    "    status_two = append_wikidata(g_word_graph_two, line, 2, lemma)\n",
    "    \n",
    "    triplets[count] = (line['arg1'], line['arg2'], line['arg3'])\n",
    "    graphs_zero[count] = g_word_graph_zero\n",
    "    graphs_two[count] = g_word_graph_two\n",
    "    statuses_zero[count] = status_zero\n",
    "    statuses_two[count] = status_two\n",
    "    count+=1"
   ]
  },
  {
   "cell_type": "code",
   "execution_count": 377,
   "metadata": {},
   "outputs": [
    {
     "name": "stdout",
     "output_type": "stream",
     "text": [
      "Osszes predicate 195\n",
      "0 tipusu hibak 87\n",
      "Maradt 108\n",
      "Ebbol nem tudunk mit mondani 24\n",
      "Amire gondoljuk hogy jo 84\n"
     ]
    }
   ],
   "source": [
    "errors_zero = [k for k in statuses_zero.keys() if statuses_zero[k] in [EdgeStatus(2), EdgeStatus(6), EdgeStatus(7)]]\n",
    "after_errors_zero = [k for k in statuses_zero.keys() if statuses_zero[k] not in [EdgeStatus(2), EdgeStatus(6), EdgeStatus(7)]]\n",
    "success_zero = [k for k in statuses_zero.keys() if statuses_zero[k] in [EdgeStatus(3), EdgeStatus(4), EdgeStatus(8)]]\n",
    "neutral_zero = [k for k in statuses_zero.keys() if statuses_zero[k] in [EdgeStatus(5)]]\n",
    "print(\"Osszes predicate\",len(statuses_zero))\n",
    "print(\"0 tipusu hibak\",len(errors_zero))\n",
    "print(\"Maradt\", len(after_errors_zero))\n",
    "print(\"Ebbol nem tudunk mit mondani\", len(neutral_zero))\n",
    "print(\"Amire gondoljuk hogy jo\", len(success_zero))"
   ]
  },
  {
   "cell_type": "code",
   "execution_count": 378,
   "metadata": {},
   "outputs": [
    {
     "name": "stdout",
     "output_type": "stream",
     "text": [
      "Osszes predicate 195\n",
      "2 tipusu hibak 168\n",
      "Maradt 27\n",
      "Ebbol nem tudunk mit mondani 2\n",
      "Amire gondoljuk hogy jo 25\n"
     ]
    }
   ],
   "source": [
    "errors_two = [k for k in statuses_two.keys() if statuses_two[k] in [EdgeStatus(2), EdgeStatus(6), EdgeStatus(7)]]\n",
    "after_errors_two = [k for k in statuses_two.keys() if statuses_two[k] not in [EdgeStatus(2), EdgeStatus(6), EdgeStatus(7)]]\n",
    "success_two = [k for k in statuses_two.keys() if statuses_two[k] in [EdgeStatus(3), EdgeStatus(4), EdgeStatus(8)]]\n",
    "neutral_two = [k for k in statuses_two.keys() if statuses_two[k] in [EdgeStatus(5)]]\n",
    "print(\"Osszes predicate\",len(statuses_two))\n",
    "print(\"2 tipusu hibak\",len(errors_two))\n",
    "print(\"Maradt\",len(after_errors_two))\n",
    "print(\"Ebbol nem tudunk mit mondani\",len(neutral_two))\n",
    "print(\"Amire gondoljuk hogy jo\",len(success_two))"
   ]
  },
  {
   "cell_type": "code",
   "execution_count": 379,
   "metadata": {},
   "outputs": [],
   "source": [
    "errors_zero_predicates = [triplets[k][1] for k in errors_zero]\n",
    "after_errors_zero_predicates = [triplets[k][1] for k in after_errors_zero]\n",
    "success_zero_predicates = [triplets[k][1] for k in success_zero]\n",
    "neutral_zero_predicates = [triplets[k][1] for k in neutral_zero]\n",
    "\n",
    "errors_two_predicates = [triplets[k][1] for k in errors_two]\n",
    "after_errors_two_predicates = [triplets[k][1] for k in after_errors_two]\n",
    "success_two_predicates = [triplets[k][1] for k in success_two]\n",
    "neutral_two_predicates = [triplets[k][1] for k in neutral_two]"
   ]
  },
  {
   "cell_type": "code",
   "execution_count": 380,
   "metadata": {},
   "outputs": [],
   "source": [
    "def print_statistics(rule, pred):\n",
    "    data = [dict_predicates_filter_novalue[k] for k in pred]\n",
    "    mean = statistics.mean(data)\n",
    "    variance = statistics.pstdev(data)\n",
    "    sum_data = sum(data)\n",
    "    print(rule,\"\\n predicate: \",len(pred),\"\\n tripletek: \",sum_data,\"\\n átlag: \",mean,\"\\n szórás: \",variance,)"
   ]
  },
  {
   "cell_type": "code",
   "execution_count": 381,
   "metadata": {},
   "outputs": [
    {
     "name": "stdout",
     "output_type": "stream",
     "text": [
      "0 tipusu elekre eloszor eloszures utan: \n",
      " predicate:  108 \n",
      " tripletek:  9276533 \n",
      " átlag:  85893.8240741 \n",
      " szórás:  388140.295277\n"
     ]
    }
   ],
   "source": [
    "'''Először 0 tipusu élekre előszures utan'''\n",
    "print_statistics(\"0 tipusu elekre eloszor eloszures utan:\" ,after_errors_zero_predicates)"
   ]
  },
  {
   "cell_type": "code",
   "execution_count": 382,
   "metadata": {},
   "outputs": [
    {
     "name": "stdout",
     "output_type": "stream",
     "text": [
      "2 tipusu elekre eloszures utan: \n",
      " predicate:  27 \n",
      " tripletek:  1425311 \n",
      " átlag:  52789.2962963 \n",
      " szórás:  99993.9924536\n"
     ]
    }
   ],
   "source": [
    "'''Majd 2 tipusu élekre előszures utan'''\n",
    "print_statistics(\"2 tipusu elekre eloszures utan:\", after_errors_two_predicates)"
   ]
  },
  {
   "cell_type": "code",
   "execution_count": 383,
   "metadata": {},
   "outputs": [
    {
     "name": "stdout",
     "output_type": "stream",
     "text": [
      "0 tipusu elekre szabalyok utan: \n",
      " predicate:  84 \n",
      " tripletek:  8420734 \n",
      " átlag:  100246.833333 \n",
      " szórás:  437205.618177\n"
     ]
    }
   ],
   "source": [
    "'''0 tipusu elekre szabalyok alkalmazasa utan'''\n",
    "print_statistics(\"0 tipusu elekre szabalyok utan:\", success_zero_predicates)"
   ]
  },
  {
   "cell_type": "code",
   "execution_count": 384,
   "metadata": {},
   "outputs": [
    {
     "name": "stdout",
     "output_type": "stream",
     "text": [
      "2 tipusu elekre szabalyok utan: \n",
      " predicate:  25 \n",
      " tripletek:  831288 \n",
      " átlag:  33251.52 \n",
      " szórás:  54688.9512974\n"
     ]
    }
   ],
   "source": [
    "'''2 tipusu elekre szabalyok alkalmazasa utan'''\n",
    "print_statistics(\"2 tipusu elekre szabalyok utan:\", success_two_predicates)"
   ]
  },
  {
   "cell_type": "code",
   "execution_count": 741,
   "metadata": {},
   "outputs": [],
   "source": [
    "utils = Utils()\n",
    "g_dot = utils.to_dot(graphs_two[189])"
   ]
  },
  {
   "cell_type": "code",
   "execution_count": 742,
   "metadata": {},
   "outputs": [],
   "source": [
    "v_g = Source(g_dot)"
   ]
  },
  {
   "cell_type": "code",
   "execution_count": null,
   "metadata": {},
   "outputs": [],
   "source": [
    "v_g"
   ]
  },
  {
   "cell_type": "code",
   "execution_count": 740,
   "metadata": {},
   "outputs": [
    {
     "data": {
      "text/plain": [
       "('Juventus_F.C.', 'chairperson', 'Eugenio_Canfari')"
      ]
     },
     "execution_count": 740,
     "metadata": {},
     "output_type": "execute_result"
    }
   ],
   "source": [
    "triplets[189]"
   ]
  },
  {
   "cell_type": "code",
   "execution_count": null,
   "metadata": {},
   "outputs": [],
   "source": [
    "success_two\n",
    "success_zero"
   ]
  },
  {
   "cell_type": "code",
   "execution_count": 635,
   "metadata": {},
   "outputs": [],
   "source": [
    "success_zero_manual = [1, 2, 3, 4, 7, 11, 15, 18, 20, 26, 27, 28, 33, 36, 38 ,40, 41, 42, 43, 48, 50, 52, 60, 61, 62, \n",
    "                       63, 65, 74, 75, 84, 85, 87, 89, 91, 104, 105, 116, 119, 125, 127, 129, 134, 138, 143, 147, 153, 155,\n",
    "                      156, 161, 162, 167, 168, 179, 186, 189, 192, 194]"
   ]
  },
  {
   "cell_type": "code",
   "execution_count": 636,
   "metadata": {},
   "outputs": [
    {
     "data": {
      "text/plain": [
       "57"
      ]
     },
     "execution_count": 636,
     "metadata": {},
     "output_type": "execute_result"
    }
   ],
   "source": [
    "len(success_zero_manual)"
   ]
  },
  {
   "cell_type": "code",
   "execution_count": 641,
   "metadata": {},
   "outputs": [
    {
     "name": "stdout",
     "output_type": "stream",
     "text": [
      "Kezi kiertekeles 0 tipusra \n",
      " predicate:  57 \n",
      " tripletek:  7630719 \n",
      " átlag:  133872.263158 \n",
      " szórás:  523694.131709\n"
     ]
    }
   ],
   "source": [
    "print_statistics(\"Kezi kiertekeles 0 tipusra\", [triplets[k][1] for k in success_zero_manual])"
   ]
  },
  {
   "cell_type": "code",
   "execution_count": 744,
   "metadata": {},
   "outputs": [],
   "source": [
    "success_two_manual = [2, 26, 33, 50, 60, 87, 104, 114, 116, 141, 158, 167, 171, 179, 186, 189]"
   ]
  },
  {
   "cell_type": "code",
   "execution_count": 745,
   "metadata": {},
   "outputs": [
    {
     "data": {
      "text/plain": [
       "16"
      ]
     },
     "execution_count": 745,
     "metadata": {},
     "output_type": "execute_result"
    }
   ],
   "source": [
    "len(success_two_manual)"
   ]
  },
  {
   "cell_type": "code",
   "execution_count": 746,
   "metadata": {},
   "outputs": [
    {
     "name": "stdout",
     "output_type": "stream",
     "text": [
      "Kezi kiertekeles 2 tipusra \n",
      " predicate:  16 \n",
      " tripletek:  742349 \n",
      " átlag:  46396.8125 \n",
      " szórás:  62058.5405789\n"
     ]
    }
   ],
   "source": [
    "print_statistics(\"Kezi kiertekeles 2 tipusra\", [triplets[k][1] for k in success_two_manual])"
   ]
  },
  {
   "cell_type": "code",
   "execution_count": null,
   "metadata": {},
   "outputs": [],
   "source": []
  }
 ],
 "metadata": {
  "kernelspec": {
   "display_name": "Python 2",
   "language": "python",
   "name": "python2"
  },
  "language_info": {
   "codemirror_mode": {
    "name": "ipython",
    "version": 2
   },
   "file_extension": ".py",
   "mimetype": "text/x-python",
   "name": "python",
   "nbconvert_exporter": "python",
   "pygments_lexer": "ipython2",
   "version": "2.7.6"
  }
 },
 "nbformat": 4,
 "nbformat_minor": 2
}
