{
 "cells": [
  {
   "cell_type": "code",
   "execution_count": 45,
   "metadata": {},
   "outputs": [],
   "source": [
    "import json\n",
    "import requests\n",
    "import json\n",
    "import matplotlib\n",
    "import re\n",
    "import pydot\n",
    "from graphviz import Digraph\n",
    "from graphviz import Source\n",
    "from inference_utils import Utils\n",
    "import networkx as nx\n",
    "from networkx.readwrite import json_graph"
   ]
  },
  {
   "cell_type": "code",
   "execution_count": 117,
   "metadata": {},
   "outputs": [],
   "source": [
    "from enum import Enum\n",
    "\n",
    "class EdgeStatus(Enum):\n",
    "    wiktdata_error = 1\n",
    "    double_edge_error = 2\n",
    "    single_zero_success = 3\n",
    "    no_edge_success = 4\n",
    "    neutral = 5\n",
    "    edge_not_found = 6\n",
    "    node_not_found = 7\n",
    "\n",
    "def append_wikidata(graph, triplet, rule):\n",
    "    curr_edges = [\n",
    "        (n1, n2, d['color']) for n1, n2, d in graph.edges(data=True)]\n",
    "\n",
    "    if triplet['arg1'] is \"novalue\" or triplet['arg2'] is \"novalue\" or triplet['arg3'] is \"novalue\":\n",
    "        return EdgeStatus.wiktdata_error\n",
    "    \n",
    "    a = nx.get_node_attributes(graph,'str_name')\n",
    "    \n",
    "    for n in a:\n",
    "        if a[n] == triplet['arg2']:\n",
    "            nulledgecount = 0\n",
    "            edgetoit = False\n",
    "            for e in curr_edges:\n",
    "                #megy e bele el\n",
    "                if e[1] == n:\n",
    "                    edgetoit = True\n",
    "                    \n",
    "                if e[0] == n:\n",
    "                    #ketts el vizsgalata\n",
    "                    for c in curr_edges:\n",
    "                        if c[0] == e[1] and c[1] == n:\n",
    "                            return EdgeStatus.double_edge_error\n",
    "                        \n",
    "                if rule == 0:\n",
    "                    if e[2] == 0:\n",
    "                        nulledgecount+=1\n",
    "                        if triplet['arg3'] not in a:\n",
    "                            graph.add_node(triplet['arg3']+'_', str_name=triplet['arg3'], expanded=True)\n",
    "                            graph.add_edge(triplet['arg3']+'_', e[1], color=0)\n",
    "                            \n",
    "                if rule == 2:\n",
    "                    if e[2] == 2:\n",
    "                        nulledgecount+=1\n",
    "                        if triplet['arg3'] not in a:\n",
    "                            graph.add_node(triplet['arg3']+'_', str_name=triplet['arg3'], expanded=True)\n",
    "                            graph.add_edge(triplet['arg1']+'_', e[1], color=0)\n",
    "\n",
    "            if nulledgecount == 0:\n",
    "                return EdgeStatus.edge_not_found\n",
    "            if nulledgecount == 1:\n",
    "                return EdgeStatus.single_zero_success\n",
    "            if edgetoit == False:\n",
    "                return EdgeStatus.no_edge_success\n",
    "            \n",
    "            return EdgeStatus.neutral\n",
    "\n",
    "    return EdgeStatus.node_not_found"
   ]
  },
  {
   "cell_type": "code",
   "execution_count": 124,
   "metadata": {},
   "outputs": [],
   "source": [
    "triplets = {}\n",
    "graphs = {}\n",
    "statuses = {}\n",
    "count = 0\n",
    "with open(\"togetherfiltered.json\", \"r+\") as f:\n",
    "    for l in f:\n",
    "        line = eval(l)\n",
    "        predicate = line['arg2']\n",
    "        data = {'word':   predicate}\n",
    "        data_json = json.dumps(data)\n",
    "        payload = {'json_payload': data_json}\n",
    "        headers = {'Content-type': 'application/json', 'Accept': 'text/plain'}\n",
    "\n",
    "        r = requests.post(\"http://127.0.0.1:5000/wikidata\", data=data_json, headers=headers)\n",
    "        \n",
    "        word_graph = r.json()['word']\n",
    "        g_word_graph = json_graph.adjacency.adjacency_graph(word_graph)\n",
    "        \n",
    "        status = append_wikidata(g_word_graph, line, 0)\n",
    "        \n",
    "        triplets[count] = (line['arg1'], line['arg2'], line['arg3'])\n",
    "        graphs[count] = g_word_graph\n",
    "        statuses[count] = status\n",
    "        count+=1"
   ]
  },
  {
   "cell_type": "code",
   "execution_count": 129,
   "metadata": {},
   "outputs": [
    {
     "data": {
      "text/plain": [
       "1726"
      ]
     },
     "execution_count": 129,
     "metadata": {},
     "output_type": "execute_result"
    }
   ],
   "source": [
    "alg_success = [k for k in statuses.values() if k in [EdgeStatus(3), EdgeStatus(4), EdgeStatus(5)]]\n",
    "len(alg_success)"
   ]
  },
  {
   "cell_type": "code",
   "execution_count": 126,
   "metadata": {},
   "outputs": [
    {
     "name": "stdout",
     "output_type": "stream",
     "text": [
      "digraph finite_state_machine {\n",
      "\tdpi=100;\n",
      "\tassociation_football_player_ [shape = circle, label = \"association_football_player\"];\n",
      "\tjob_139629397255440 [shape = circle, label = \"job\"];\n",
      "\toccupation_139629397254224 [shape = circle, label = \"occupation\"];\n",
      "\tprofession_139629406289552 [shape = circle, label = \"profession\"];\n",
      "\tassociation_football_player_ -> job_139629397255440 [ label = \"0\" ];\n",
      "\tassociation_football_player_ -> profession_139629406289552 [ label = \"0\" ];\n",
      "\toccupation_139629397254224 -> job_139629397255440 [ label = \"0\" ];\n",
      "\toccupation_139629397254224 -> profession_139629406289552 [ label = \"0\" ];\n",
      "}\n"
     ]
    }
   ],
   "source": [
    "utils = Utils()\n",
    "g_dot = utils.to_dot(graphs[23])\n",
    "print(g_dot)"
   ]
  },
  {
   "cell_type": "code",
   "execution_count": 127,
   "metadata": {},
   "outputs": [],
   "source": [
    "v_g = Source(g_dot)"
   ]
  },
  {
   "cell_type": "code",
   "execution_count": 128,
   "metadata": {},
   "outputs": [
    {
     "data": {
      "image/svg+xml": [
       "<?xml version=\"1.0\" encoding=\"UTF-8\" standalone=\"no\"?>\n",
       "<!DOCTYPE svg PUBLIC \"-//W3C//DTD SVG 1.1//EN\"\n",
       " \"http://www.w3.org/Graphics/SVG/1.1/DTD/svg11.dtd\">\n",
       "<!-- Generated by graphviz version 2.36.0 (20140111.2315)\n",
       " -->\n",
       "<!-- Title: finite_state_machine Pages: 1 -->\n",
       "<svg width=\"471pt\" height=\"517pt\"\n",
       " viewBox=\"0.00 0.00 470.83 516.67\" xmlns=\"http://www.w3.org/2000/svg\" xmlns:xlink=\"http://www.w3.org/1999/xlink\">\n",
       "<g id=\"graph0\" class=\"graph\" transform=\"scale(1.38889 1.38889) rotate(0) translate(4 368)\">\n",
       "<title>finite_state_machine</title>\n",
       "<polygon fill=\"white\" stroke=\"none\" points=\"-4,4 -4,-368 335,-368 335,4 -4,4\"/>\n",
       "<!-- association_football_player_ -->\n",
       "<g id=\"node1\" class=\"node\"><title>association_football_player_</title>\n",
       "<ellipse fill=\"none\" stroke=\"black\" cx=\"107\" cy=\"-256\" rx=\"107.336\" ry=\"107.781\"/>\n",
       "<text text-anchor=\"middle\" x=\"107\" y=\"-252.3\" font-family=\"Times,serif\" font-size=\"14.00\">association_football_player</text>\n",
       "</g>\n",
       "<!-- job_139629397255440 -->\n",
       "<g id=\"node2\" class=\"node\"><title>job_139629397255440</title>\n",
       "<ellipse fill=\"none\" stroke=\"black\" cx=\"150\" cy=\"-48\" rx=\"22.1473\" ry=\"22.1965\"/>\n",
       "<text text-anchor=\"middle\" x=\"150\" y=\"-44.3\" font-family=\"Times,serif\" font-size=\"14.00\">job</text>\n",
       "</g>\n",
       "<!-- association_football_player_&#45;&gt;job_139629397255440 -->\n",
       "<g id=\"edge1\" class=\"edge\"><title>association_football_player_&#45;&gt;job_139629397255440</title>\n",
       "<path fill=\"none\" stroke=\"black\" d=\"M116.88,-148.205C118.843,-136.581 121.191,-124.989 124,-114 127.143,-101.705 132.047,-88.6261 136.753,-77.4484\"/>\n",
       "<polygon fill=\"black\" stroke=\"black\" points=\"140.005,-78.7482 140.789,-68.1824 133.587,-75.9531 140.005,-78.7482\"/>\n",
       "<text text-anchor=\"middle\" x=\"127.5\" y=\"-118.3\" font-family=\"Times,serif\" font-size=\"14.00\">0</text>\n",
       "</g>\n",
       "<!-- profession_139629406289552 -->\n",
       "<g id=\"node4\" class=\"node\"><title>profession_139629406289552</title>\n",
       "<ellipse fill=\"none\" stroke=\"black\" cx=\"257\" cy=\"-48\" rx=\"47.169\" ry=\"47.3916\"/>\n",
       "<text text-anchor=\"middle\" x=\"257\" y=\"-44.3\" font-family=\"Times,serif\" font-size=\"14.00\">profession</text>\n",
       "</g>\n",
       "<!-- association_football_player_&#45;&gt;profession_139629406289552 -->\n",
       "<g id=\"edge2\" class=\"edge\"><title>association_football_player_&#45;&gt;profession_139629406289552</title>\n",
       "<path fill=\"none\" stroke=\"black\" d=\"M157.838,-160.52C167.789,-144.499 178.676,-128.403 190,-114 197.356,-104.644 206.005,-95.3068 214.6,-86.7476\"/>\n",
       "<polygon fill=\"black\" stroke=\"black\" points=\"217.056,-89.2419 221.778,-79.7575 212.172,-84.227 217.056,-89.2419\"/>\n",
       "<text text-anchor=\"middle\" x=\"193.5\" y=\"-118.3\" font-family=\"Times,serif\" font-size=\"14.00\">0</text>\n",
       "</g>\n",
       "<!-- occupation_139629397254224 -->\n",
       "<g id=\"node3\" class=\"node\"><title>occupation_139629397254224</title>\n",
       "<ellipse fill=\"none\" stroke=\"black\" cx=\"282\" cy=\"-256\" rx=\"49.0941\" ry=\"49.2915\"/>\n",
       "<text text-anchor=\"middle\" x=\"282\" y=\"-252.3\" font-family=\"Times,serif\" font-size=\"14.00\">occupation</text>\n",
       "</g>\n",
       "<!-- occupation_139629397254224&#45;&gt;job_139629397255440 -->\n",
       "<g id=\"edge3\" class=\"edge\"><title>occupation_139629397254224&#45;&gt;job_139629397255440</title>\n",
       "<path fill=\"none\" stroke=\"black\" d=\"M259.857,-211.814C249.284,-192.016 236.1,-168.454 223,-148 206.245,-121.84 184.96,-93.4428 169.703,-73.7983\"/>\n",
       "<polygon fill=\"black\" stroke=\"black\" points=\"172.278,-71.4089 163.36,-65.6879 166.764,-75.7212 172.278,-71.4089\"/>\n",
       "<text text-anchor=\"middle\" x=\"213.5\" y=\"-118.3\" font-family=\"Times,serif\" font-size=\"14.00\">0</text>\n",
       "</g>\n",
       "<!-- occupation_139629397254224&#45;&gt;profession_139629406289552 -->\n",
       "<g id=\"edge4\" class=\"edge\"><title>occupation_139629397254224&#45;&gt;profession_139629406289552</title>\n",
       "<path fill=\"none\" stroke=\"black\" d=\"M276.139,-206.702C272.453,-176.334 267.683,-137.029 263.827,-105.256\"/>\n",
       "<polygon fill=\"black\" stroke=\"black\" points=\"267.289,-104.731 262.61,-95.2254 260.34,-105.574 267.289,-104.731\"/>\n",
       "<text text-anchor=\"middle\" x=\"269.5\" y=\"-118.3\" font-family=\"Times,serif\" font-size=\"14.00\">0</text>\n",
       "</g>\n",
       "</g>\n",
       "</svg>\n"
      ],
      "text/plain": [
       "<graphviz.files.Source at 0x7f9d9ed717d0>"
      ]
     },
     "execution_count": 128,
     "metadata": {},
     "output_type": "execute_result"
    }
   ],
   "source": [
    "v_g"
   ]
  },
  {
   "cell_type": "code",
   "execution_count": null,
   "metadata": {},
   "outputs": [],
   "source": []
  }
 ],
 "metadata": {
  "kernelspec": {
   "display_name": "Python 2",
   "language": "python",
   "name": "python2"
  },
  "language_info": {
   "codemirror_mode": {
    "name": "ipython",
    "version": 2
   },
   "file_extension": ".py",
   "mimetype": "text/x-python",
   "name": "python",
   "nbconvert_exporter": "python",
   "pygments_lexer": "ipython2",
   "version": "2.7.6"
  }
 },
 "nbformat": 4,
 "nbformat_minor": 2
}
